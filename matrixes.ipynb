{
  "nbformat": 4,
  "nbformat_minor": 0,
  "metadata": {
    "colab": {
      "provenance": [],
      "toc_visible": true,
      "authorship_tag": "ABX9TyN5FTq+45s3YcFaFPPl3PWQ",
      "include_colab_link": true
    },
    "kernelspec": {
      "name": "python3",
      "display_name": "Python 3"
    },
    "language_info": {
      "name": "python"
    }
  },
  "cells": [
    {
      "cell_type": "markdown",
      "metadata": {
        "id": "view-in-github",
        "colab_type": "text"
      },
      "source": [
        "<a href=\"https://colab.research.google.com/github/SaiPranathi005/Pranathi/blob/main/matrixes.ipynb\" target=\"_parent\"><img src=\"https://colab.research.google.com/assets/colab-badge.svg\" alt=\"Open In Colab\"/></a>"
      ]
    },
    {
      "cell_type": "code",
      "execution_count": 1,
      "metadata": {
        "colab": {
          "base_uri": "https://localhost:8080/"
        },
        "id": "1jPNKrEmGJqB",
        "outputId": "fadeadfd-432a-4572-d595-3ccf2c901693"
      },
      "outputs": [
        {
          "output_type": "stream",
          "name": "stdout",
          "text": [
            "3 3\n",
            "Enter elements of matrix A:\n",
            "1 2 3\n",
            "4 5 6\n",
            "8 9 7\n",
            "Enter elements of matrix B:\n",
            "3 5 7\n",
            "4 6 9\n",
            "9 6 3\n",
            "\n",
            "Result of matrix addition:\n",
            "4 7 10\n",
            "8 11 15\n",
            "17 15 10\n"
          ]
        }
      ],
      "source": [
        "def main():\n",
        "    r, c = map(int, input().split())\n",
        "    A = []\n",
        "    B = []\n",
        "    print(\"Enter elements of matrix A:\")\n",
        "    for i in range(r):\n",
        "        row = list(map(int, input().split()))\n",
        "        A.append(row)\n",
        "    print(\"Enter elements of matrix B:\")\n",
        "    for i in range(r):\n",
        "        row = list(map(int, input().split()))\n",
        "        B.append(row)\n",
        "    res = [[0]*c for _ in range(r)]\n",
        "    for i in range(r):\n",
        "        for j in range(c):\n",
        "            res[i][j] = A[i][j] + B[i][j]\n",
        "    print(\"\\nResult of matrix addition:\")\n",
        "    for row in res:\n",
        "        print(' '.join(map(str, row)))4\n",
        "if __name__ == \"__main__\":\n",
        "    main()\n"
      ]
    }
  ]
}